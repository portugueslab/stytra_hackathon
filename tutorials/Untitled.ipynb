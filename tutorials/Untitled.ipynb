{
 "cells": [
  {
   "cell_type": "markdown",
   "metadata": {},
   "source": [
    "# Classes and objects - an introduction"
   ]
  },
  {
   "cell_type": "code",
   "execution_count": 1,
   "metadata": {},
   "outputs": [],
   "source": [
    "import numpy as np\n",
    "from matplotlib import pyplot as plt"
   ]
  },
  {
   "cell_type": "code",
   "execution_count": 2,
   "metadata": {},
   "outputs": [],
   "source": [
    "class Fish():\n",
    "    pass"
   ]
  },
  {
   "cell_type": "code",
   "execution_count": 3,
   "metadata": {},
   "outputs": [
    {
     "data": {
      "text/plain": [
       "False"
      ]
     },
     "execution_count": 3,
     "metadata": {},
     "output_type": "execute_result"
    }
   ],
   "source": [
    "a_fish = Fish()\n",
    "another_fish = Fish()\n",
    "\n",
    "a_fish == another_fish"
   ]
  },
  {
   "cell_type": "code",
   "execution_count": 4,
   "metadata": {},
   "outputs": [
    {
     "data": {
      "text/plain": [
       "True"
      ]
     },
     "execution_count": 4,
     "metadata": {},
     "output_type": "execute_result"
    }
   ],
   "source": [
    "a_fish = Fish()\n",
    "a_second_ref_to_first_fish = a_fish\n",
    "\n",
    "a_fish == a_second_ref_to_first_fish"
   ]
  },
  {
   "cell_type": "code",
   "execution_count": 5,
   "metadata": {},
   "outputs": [],
   "source": [
    "class Fish():\n",
    "    pass"
   ]
  },
  {
   "cell_type": "code",
   "execution_count": 8,
   "metadata": {},
   "outputs": [],
   "source": [
    "class Fish():\n",
    "    def __init__(self, age=7):        \n",
    "        self.age = age"
   ]
  },
  {
   "cell_type": "code",
   "execution_count": 13,
   "metadata": {},
   "outputs": [
    {
     "name": "stdout",
     "output_type": "stream",
     "text": [
      "age of a fish: 6\n",
      "age of another fish: 8\n"
     ]
    }
   ],
   "source": [
    "a_fish = Fish(age=6)\n",
    "another_fish = Fish(age=8)\n",
    "print(\"age of a fish: {}\".format(a_fish.age))\n",
    "print(\"age of another fish: {}\".format(another_fish.age))"
   ]
  },
  {
   "cell_type": "code",
   "execution_count": 14,
   "metadata": {},
   "outputs": [
    {
     "name": "stdout",
     "output_type": "stream",
     "text": [
      "age of a fish: 6\n",
      "age of another fish: 9\n"
     ]
    }
   ],
   "source": [
    "another_fish.age = 9\n",
    "print(\"age of a fish: {}\".format(a_fish.age))\n",
    "print(\"age of another fish: {}\".format(another_fish.age))"
   ]
  },
  {
   "cell_type": "code",
   "execution_count": 98,
   "metadata": {},
   "outputs": [
    {
     "name": "stdout",
     "output_type": "stream",
     "text": [
      "age of a fish: 10\n"
     ]
    }
   ],
   "source": [
    "a_second_ref_to_first_fish = a_fish\n",
    "a_second_ref_to_first_fish.age = 10\n",
    "print(\"age of a fish: {}\".format(a_fish.age))"
   ]
  },
  {
   "cell_type": "code",
   "execution_count": 99,
   "metadata": {},
   "outputs": [
    {
     "name": "stdout",
     "output_type": "stream",
     "text": [
      "age of a fish: 10\n",
      "age of another fish: 9\n"
     ]
    }
   ],
   "source": [
    "another_fish.age = 9\n",
    "print(\"age of a fish: {}\".format(a_fish.age))\n",
    "print(\"age of another fish: {}\".format(another_fish.age))"
   ]
  },
  {
   "cell_type": "markdown",
   "metadata": {},
   "source": [
    "For reasons that will be clearer later, sometimes we might want a function to ask for the value of specific attribute of an object:"
   ]
  },
  {
   "cell_type": "code",
   "execution_count": 100,
   "metadata": {},
   "outputs": [
    {
     "data": {
      "text/plain": [
       "10"
      ]
     },
     "execution_count": 100,
     "metadata": {},
     "output_type": "execute_result"
    }
   ],
   "source": [
    "getattr(a_fish, \"age\")"
   ]
  },
  {
   "cell_type": "code",
   "execution_count": 102,
   "metadata": {},
   "outputs": [
    {
     "data": {
      "text/plain": [
       "'black'"
      ]
     },
     "execution_count": 102,
     "metadata": {},
     "output_type": "execute_result"
    }
   ],
   "source": [
    "getattr(a_fish, \"color\", \"black\")"
   ]
  },
  {
   "cell_type": "markdown",
   "metadata": {},
   "source": [
    "## What are classes useful for?"
   ]
  },
  {
   "cell_type": "markdown",
   "metadata": {},
   "source": [
    "Imagine we want to simulate trajectories from three fish. Each fish will have coordinates, position, and bout probability. How do we keep track of all these parameters for all fish?\n",
    "Of course we could make arrays keeping track of all variables:"
   ]
  },
  {
   "cell_type": "code",
   "execution_count": null,
   "metadata": {},
   "outputs": [],
   "source": [
    "fish_x_pos = np.zeros(3)\n",
    "fish_y_pos = np.zeros(3)\n",
    "fish_vel = np.array([5, 10, 3])\n",
    "\n",
    "def update_positions(fish_x_pos, fish_x_pos, fish_vel):\n",
    "    ..."
   ]
  },
  {
   "cell_type": "markdown",
   "metadata": {},
   "source": [
    "In such circumstances, classes can be very useful to keep together attributes that are referring to the same thing (object, a fish in this case) and operate on them. For example, for a moving fish:"
   ]
  },
  {
   "cell_type": "code",
   "execution_count": 22,
   "metadata": {},
   "outputs": [],
   "source": [
    "class Fish():\n",
    "    def __init__(self, age, start_pos_x=0, start_pos_y=0, max_speed=10):\n",
    "        \n",
    "        self.age = age\n",
    "        self.pos_x = start_pos_x\n",
    "        self.pos_y = start_pos_y\n",
    "        \n",
    "        self.max_speed = 10\n",
    "\n",
    "    def bout(self):\n",
    "        self.pos_x += np.random.randint(-self.max_speed, self.max_speed)\n",
    "        self.pos_y += np.random.randint(-self.max_speed, self.max_speed)\n",
    "        \n",
    "    def print_pos(self):\n",
    "        print(self.pos_x, self.pos_y)\n",
    "        \n",
    "    def reset_pos(self, pos_x, pos_y):\n",
    "        self.pos_x = pos_x\n",
    "        self.pos_y = pos_y"
   ]
  },
  {
   "cell_type": "code",
   "execution_count": 23,
   "metadata": {},
   "outputs": [],
   "source": [
    "a_fish = Fish(8)"
   ]
  },
  {
   "cell_type": "markdown",
   "metadata": {},
   "source": [
    "# Inheritance"
   ]
  },
  {
   "cell_type": "code",
   "execution_count": 26,
   "metadata": {},
   "outputs": [],
   "source": [
    "class FishLarvae(Fish):\n",
    "    def is_stupid():  # Note: we don't have the self here! This we can do, because we don't use it.\n",
    "        print(\"Yes!\")\n",
    "\n",
    "class FishAdult(Fish):\n",
    "    def is_stupid():\n",
    "        print(\"No!\")\n",
    "        \n",
    "    def do_something_smart(self):\n",
    "        print(\"something smart\")"
   ]
  },
  {
   "cell_type": "code",
   "execution_count": 33,
   "metadata": {},
   "outputs": [],
   "source": [
    "a_larvae_fish = FishAdult(age=5)\n",
    "an_adult_fish = FishAdult(age=23)"
   ]
  },
  {
   "cell_type": "code",
   "execution_count": 29,
   "metadata": {},
   "outputs": [
    {
     "name": "stdout",
     "output_type": "stream",
     "text": [
      "True\n",
      "True\n",
      "False\n"
     ]
    }
   ],
   "source": [
    "print(isinstance(an_adult_fish, Fish))\n",
    "print(isinstance(an_adult_fish, FishAdult))\n",
    "print(isinstance(an_adult_fish, FishLarvae))"
   ]
  },
  {
   "cell_type": "markdown",
   "metadata": {},
   "source": [
    "# Args and kwargs"
   ]
  },
  {
   "cell_type": "code",
   "execution_count": 31,
   "metadata": {},
   "outputs": [],
   "source": [
    "class FishLarvae(Fish):\n",
    "    def __init__(self):\n",
    "        print(\"Instantiating a larvae\")"
   ]
  },
  {
   "cell_type": "code",
   "execution_count": 36,
   "metadata": {},
   "outputs": [
    {
     "name": "stdout",
     "output_type": "stream",
     "text": [
      "Instantiating a larvae\n"
     ]
    },
    {
     "ename": "AttributeError",
     "evalue": "'FishLarvae' object has no attribute 'pos_x'",
     "output_type": "error",
     "traceback": [
      "\u001b[1;31m---------------------------------------------------------------------------\u001b[0m",
      "\u001b[1;31mAttributeError\u001b[0m                            Traceback (most recent call last)",
      "\u001b[1;32m<ipython-input-36-c9c733181353>\u001b[0m in \u001b[0;36m<module>\u001b[1;34m\u001b[0m\n\u001b[0;32m      1\u001b[0m \u001b[0ma_larvae_fish\u001b[0m \u001b[1;33m=\u001b[0m \u001b[0mFishLarvae\u001b[0m\u001b[1;33m(\u001b[0m\u001b[1;33m)\u001b[0m\u001b[1;33m\u001b[0m\u001b[1;33m\u001b[0m\u001b[0m\n\u001b[1;32m----> 2\u001b[1;33m \u001b[0ma_larvae_fish\u001b[0m\u001b[1;33m.\u001b[0m\u001b[0mbout\u001b[0m\u001b[1;33m(\u001b[0m\u001b[1;33m)\u001b[0m\u001b[1;33m\u001b[0m\u001b[1;33m\u001b[0m\u001b[0m\n\u001b[0m",
      "\u001b[1;32m<ipython-input-22-0b34ccfebaf4>\u001b[0m in \u001b[0;36mbout\u001b[1;34m(self)\u001b[0m\n\u001b[0;32m      9\u001b[0m \u001b[1;33m\u001b[0m\u001b[0m\n\u001b[0;32m     10\u001b[0m     \u001b[1;32mdef\u001b[0m \u001b[0mbout\u001b[0m\u001b[1;33m(\u001b[0m\u001b[0mself\u001b[0m\u001b[1;33m)\u001b[0m\u001b[1;33m:\u001b[0m\u001b[1;33m\u001b[0m\u001b[1;33m\u001b[0m\u001b[0m\n\u001b[1;32m---> 11\u001b[1;33m         \u001b[0mself\u001b[0m\u001b[1;33m.\u001b[0m\u001b[0mpos_x\u001b[0m \u001b[1;33m+=\u001b[0m \u001b[0mnp\u001b[0m\u001b[1;33m.\u001b[0m\u001b[0mrandom\u001b[0m\u001b[1;33m.\u001b[0m\u001b[0mrandint\u001b[0m\u001b[1;33m(\u001b[0m\u001b[1;33m-\u001b[0m\u001b[0mself\u001b[0m\u001b[1;33m.\u001b[0m\u001b[0mmax_speed\u001b[0m\u001b[1;33m,\u001b[0m \u001b[0mself\u001b[0m\u001b[1;33m.\u001b[0m\u001b[0mmax_speed\u001b[0m\u001b[1;33m)\u001b[0m\u001b[1;33m\u001b[0m\u001b[1;33m\u001b[0m\u001b[0m\n\u001b[0m\u001b[0;32m     12\u001b[0m         \u001b[0mself\u001b[0m\u001b[1;33m.\u001b[0m\u001b[0mpos_y\u001b[0m \u001b[1;33m+=\u001b[0m \u001b[0mnp\u001b[0m\u001b[1;33m.\u001b[0m\u001b[0mrandom\u001b[0m\u001b[1;33m.\u001b[0m\u001b[0mrandint\u001b[0m\u001b[1;33m(\u001b[0m\u001b[1;33m-\u001b[0m\u001b[0mself\u001b[0m\u001b[1;33m.\u001b[0m\u001b[0mmax_speed\u001b[0m\u001b[1;33m,\u001b[0m \u001b[0mself\u001b[0m\u001b[1;33m.\u001b[0m\u001b[0mmax_speed\u001b[0m\u001b[1;33m)\u001b[0m\u001b[1;33m\u001b[0m\u001b[1;33m\u001b[0m\u001b[0m\n\u001b[0;32m     13\u001b[0m \u001b[1;33m\u001b[0m\u001b[0m\n",
      "\u001b[1;31mAttributeError\u001b[0m: 'FishLarvae' object has no attribute 'pos_x'"
     ]
    }
   ],
   "source": [
    "a_larvae_fish = FishLarvae(age = 7)\n",
    "a_larvae_fish.bout()"
   ]
  },
  {
   "cell_type": "markdown",
   "metadata": {},
   "source": [
    "Of course, one option would be to repeat all arguments in the subclass:"
   ]
  },
  {
   "cell_type": "code",
   "execution_count": 65,
   "metadata": {},
   "outputs": [],
   "source": [
    "class FishLarvae(Fish):\n",
    "    def __init__(self, age, start_pos_x=0, start_pos_y=0, max_speed=10):\n",
    "        super().__init__(age, start_pos_x=start_pos_x, start_pos_y=start_pos_y, max_speed=max_speed)\n",
    "        print(\"Instantiating a larvae\")"
   ]
  },
  {
   "cell_type": "code",
   "execution_count": 66,
   "metadata": {},
   "outputs": [
    {
     "name": "stdout",
     "output_type": "stream",
     "text": [
      "Instantiating a larvae\n",
      "-7 -2\n"
     ]
    }
   ],
   "source": [
    "a_larvae_fish = FishLarvae(7)\n",
    "a_larvae_fish.bout()\n",
    "a_larvae_fish.print_pos()"
   ]
  },
  {
   "cell_type": "markdown",
   "metadata": {},
   "source": [
    "But a much cleaner syntax would be the following:"
   ]
  },
  {
   "cell_type": "code",
   "execution_count": 67,
   "metadata": {},
   "outputs": [],
   "source": [
    "class FishLarvae(Fish):\n",
    "    def __init__(self, *args, **kwargs):\n",
    "        super().__init__(*args, **kwargs)\n",
    "        print(\"Instantiating a larvae\")"
   ]
  },
  {
   "cell_type": "markdown",
   "metadata": {},
   "source": [
    "We can still use the arguments stored in args (a list) and kwargs (a dictionary)"
   ]
  },
  {
   "cell_type": "code",
   "execution_count": 94,
   "metadata": {},
   "outputs": [],
   "source": [
    "class FishLarvae(Fish):\n",
    "    def __init__(self, *args, **kwargs):\n",
    "        super().__init__(*args, **kwargs)\n",
    "        \n",
    "        if args[0] > 9:\n",
    "            raise ValueError(\"The fish is too old to be a larvae!\")\n",
    "        \n",
    "        print(\"Instantiating a larvae in position ({}, {})\".format(kwargs[\"start_pos_x\"], kwargs[\"start_pos_y\"]))\n",
    "        "
   ]
  },
  {
   "cell_type": "code",
   "execution_count": 97,
   "metadata": {},
   "outputs": [
    {
     "name": "stdout",
     "output_type": "stream",
     "text": [
      "Instantiating a larvae in position (10, 20)\n",
      "13 14\n"
     ]
    }
   ],
   "source": [
    "a_larvae_fish = FishLarvae(8, start_pos_x=10, start_pos_y=20)\n",
    "a_larvae_fish.bout()\n",
    "a_larvae_fish.print_pos()"
   ]
  },
  {
   "cell_type": "code",
   "execution_count": 57,
   "metadata": {},
   "outputs": [],
   "source": [
    "def summing(a, b=1):\n",
    "    print(a+b)"
   ]
  },
  {
   "cell_type": "code",
   "execution_count": 58,
   "metadata": {},
   "outputs": [
    {
     "name": "stdout",
     "output_type": "stream",
     "text": [
      "3\n"
     ]
    }
   ],
   "source": [
    "summing(1, 2)"
   ]
  },
  {
   "cell_type": "code",
   "execution_count": null,
   "metadata": {},
   "outputs": [],
   "source": []
  },
  {
   "cell_type": "markdown",
   "metadata": {},
   "source": [
    "# Multiple inheritance"
   ]
  },
  {
   "cell_type": "markdown",
   "metadata": {},
   "source": [
    "Let's assume we want to keep track of where each fish moves. To do this, we already provide a very neat class to store in a list some quantities:"
   ]
  },
  {
   "cell_type": "code",
   "execution_count": 107,
   "metadata": {},
   "outputs": [],
   "source": [
    "class DataLogger():\n",
    "    def __init__(self, what_to_log=[]):\n",
    "        print(\"creating DataLogger\")\n",
    "        self.what_to_log = what_to_log\n",
    "        self.log = {k: [] for k in self.what_to_log}\n",
    "        \n",
    "    def update_log(self):\n",
    "        for k in self.what_to_log:\n",
    "            self.log[k].append(getattr(self, k))\n",
    "            \n",
    "    def reset_log(self):\n",
    "        self.log = {k: [] for k in self.what_to_log}"
   ]
  },
  {
   "cell_type": "markdown",
   "metadata": {},
   "source": [
    "Right now, this data logger has nothing interesting to store. But now, let's combine it together with  the fish class!"
   ]
  },
  {
   "cell_type": "code",
   "execution_count": 109,
   "metadata": {},
   "outputs": [],
   "source": [
    "class LoggedFish(Fish, DataLogger):\n",
    "    pass"
   ]
  },
  {
   "cell_type": "code",
   "execution_count": 110,
   "metadata": {},
   "outputs": [
    {
     "ename": "TypeError",
     "evalue": "__init__() got an unexpected keyword argument 'what_to_log'",
     "output_type": "error",
     "traceback": [
      "\u001b[1;31m---------------------------------------------------------------------------\u001b[0m",
      "\u001b[1;31mTypeError\u001b[0m                                 Traceback (most recent call last)",
      "\u001b[1;32m<ipython-input-110-5cc32e215b1a>\u001b[0m in \u001b[0;36m<module>\u001b[1;34m\u001b[0m\n\u001b[1;32m----> 1\u001b[1;33m \u001b[0ma_logged_fish\u001b[0m \u001b[1;33m=\u001b[0m \u001b[0mLoggedFish\u001b[0m\u001b[1;33m(\u001b[0m\u001b[0mage\u001b[0m\u001b[1;33m=\u001b[0m\u001b[1;36m10\u001b[0m\u001b[1;33m,\u001b[0m \u001b[0mwhat_to_log\u001b[0m\u001b[1;33m=\u001b[0m\u001b[1;33m[\u001b[0m\u001b[1;34m\"pos_x\"\u001b[0m\u001b[1;33m]\u001b[0m\u001b[1;33m)\u001b[0m\u001b[1;33m\u001b[0m\u001b[1;33m\u001b[0m\u001b[0m\n\u001b[0m",
      "\u001b[1;31mTypeError\u001b[0m: __init__() got an unexpected keyword argument 'what_to_log'"
     ]
    }
   ],
   "source": [
    "a_logged_fish = LoggedFish(age=10, what_to_log=[\"pos_x\"])"
   ]
  },
  {
   "cell_type": "code",
   "execution_count": null,
   "metadata": {},
   "outputs": [],
   "source": []
  }
 ],
 "metadata": {
  "kernelspec": {
   "display_name": "Python 3",
   "language": "python",
   "name": "python3"
  },
  "language_info": {
   "codemirror_mode": {
    "name": "ipython",
    "version": 3
   },
   "file_extension": ".py",
   "mimetype": "text/x-python",
   "name": "python",
   "nbconvert_exporter": "python",
   "pygments_lexer": "ipython3",
   "version": "3.7.4"
  }
 },
 "nbformat": 4,
 "nbformat_minor": 2
}
