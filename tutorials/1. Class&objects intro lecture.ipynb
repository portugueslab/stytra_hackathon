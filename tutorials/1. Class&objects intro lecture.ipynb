{
 "cells": [
  {
   "cell_type": "markdown",
   "metadata": {},
   "source": [
    "# Classes and objects - an introduction"
   ]
  },
  {
   "cell_type": "code",
   "execution_count": 1,
   "metadata": {},
   "outputs": [],
   "source": [
    "import numpy as np"
   ]
  },
  {
   "cell_type": "markdown",
   "metadata": {},
   "source": [
    "Let's have a look at the standard syntax to define a **class**:"
   ]
  },
  {
   "cell_type": "code",
   "execution_count": 6,
   "metadata": {},
   "outputs": [],
   "source": [
    "class Fish():\n",
    "    pass"
   ]
  },
  {
   "cell_type": "markdown",
   "metadata": {},
   "source": [
    "Now we will create **instances** of that class. The two instances will be **two different objects** of the same class:"
   ]
  },
  {
   "cell_type": "code",
   "execution_count": 7,
   "metadata": {},
   "outputs": [],
   "source": [
    "a_dict = dict()"
   ]
  },
  {
   "cell_type": "code",
   "execution_count": 8,
   "metadata": {},
   "outputs": [
    {
     "data": {
      "text/plain": [
       "False"
      ]
     },
     "execution_count": 8,
     "metadata": {},
     "output_type": "execute_result"
    }
   ],
   "source": [
    "a_fish = Fish()\n",
    "another_fish = Fish()\n",
    "\n",
    "a_fish == another_fish"
   ]
  },
  {
   "cell_type": "markdown",
   "metadata": {},
   "source": [
    "Below, we create **two references to the same object**:"
   ]
  },
  {
   "cell_type": "code",
   "execution_count": 9,
   "metadata": {},
   "outputs": [
    {
     "data": {
      "text/plain": [
       "True"
      ]
     },
     "execution_count": 9,
     "metadata": {},
     "output_type": "execute_result"
    }
   ],
   "source": [
    "a_fish = Fish()\n",
    "a_second_ref_to_first_fish = a_fish\n",
    "\n",
    "a_fish == a_second_ref_to_first_fish"
   ]
  },
  {
   "cell_type": "markdown",
   "metadata": {},
   "source": [
    "Let's add some **attributes** to our class. Attributes are variables related to individual objects of a class.\n",
    "To add an attribute, we can define the constructor method `__init__()` of the class:"
   ]
  },
  {
   "cell_type": "code",
   "execution_count": 14,
   "metadata": {},
   "outputs": [],
   "source": [
    "class Fish():\n",
    "    def __init__(self, age=7, genotype=\"TL\"):  \n",
    "        print(\"I am creating an object\")\n",
    "        self.age = age\n",
    "        self.genotype = genotype"
   ]
  },
  {
   "cell_type": "code",
   "execution_count": 15,
   "metadata": {},
   "outputs": [
    {
     "name": "stdout",
     "output_type": "stream",
     "text": [
      "I am creating an object\n"
     ]
    },
    {
     "data": {
      "text/plain": [
       "'TL'"
      ]
     },
     "execution_count": 15,
     "metadata": {},
     "output_type": "execute_result"
    }
   ],
   "source": [
    "a_fish = Fish(age=10)\n",
    "a_fish.genotype"
   ]
  },
  {
   "cell_type": "markdown",
   "metadata": {},
   "source": [
    "Every time we instantiate a `Fish()`, the `Fish().__init__(...)` function will be called:"
   ]
  },
  {
   "cell_type": "code",
   "execution_count": 16,
   "metadata": {},
   "outputs": [
    {
     "name": "stdout",
     "output_type": "stream",
     "text": [
      "I am creating an object\n",
      "I am creating an object\n",
      "age of a fish: 6\n",
      "age of another fish: 8\n"
     ]
    }
   ],
   "source": [
    "a_fish = Fish(age=6)\n",
    "another_fish = Fish(age=8)\n",
    "print(\"age of a fish: {}\".format(a_fish.age))\n",
    "print(\"age of another fish: {}\".format(another_fish.age))"
   ]
  },
  {
   "cell_type": "markdown",
   "metadata": {},
   "source": [
    "Changing the attribute of one object leave the other unaltered..."
   ]
  },
  {
   "cell_type": "code",
   "execution_count": 17,
   "metadata": {},
   "outputs": [
    {
     "name": "stdout",
     "output_type": "stream",
     "text": [
      "age of a fish: 6\n",
      "age of another fish: 9\n"
     ]
    }
   ],
   "source": [
    "another_fish.age = 9\n",
    "print(\"age of a fish: {}\".format(a_fish.age))\n",
    "print(\"age of another fish: {}\".format(another_fish.age))"
   ]
  },
  {
   "cell_type": "markdown",
   "metadata": {},
   "source": [
    "...but changing the attribute of a second reference to the first object will modified the first object as well:"
   ]
  },
  {
   "cell_type": "code",
   "execution_count": 19,
   "metadata": {},
   "outputs": [
    {
     "name": "stdout",
     "output_type": "stream",
     "text": [
      "age of a fish: 10\n"
     ]
    }
   ],
   "source": [
    "a_second_ref_to_first_fish = a_fish\n",
    "a_second_ref_to_first_fish.age = 10\n",
    "print(\"age of a fish: {}\".format(a_fish.age))"
   ]
  },
  {
   "cell_type": "code",
   "execution_count": 18,
   "metadata": {},
   "outputs": [
    {
     "name": "stdout",
     "output_type": "stream",
     "text": [
      "age of a fish: 10\n",
      "age of another fish: 9\n"
     ]
    }
   ],
   "source": [
    "another_fish.age = 9\n",
    "print(\"age of a fish: {}\".format(a_fish.age))\n",
    "print(\"age of another fish: {}\".format(another_fish.age))"
   ]
  },
  {
   "cell_type": "code",
   "execution_count": 20,
   "metadata": {},
   "outputs": [
    {
     "data": {
      "text/plain": [
       "'TL'"
      ]
     },
     "execution_count": 20,
     "metadata": {},
     "output_type": "execute_result"
    }
   ],
   "source": [
    "a_fish.genotype"
   ]
  },
  {
   "cell_type": "markdown",
   "metadata": {},
   "source": [
    "For reasons that will be clearer later, sometimes we might want a function to ask for the value of specific attribute of an object:"
   ]
  },
  {
   "cell_type": "code",
   "execution_count": 21,
   "metadata": {},
   "outputs": [
    {
     "data": {
      "text/plain": [
       "10"
      ]
     },
     "execution_count": 21,
     "metadata": {},
     "output_type": "execute_result"
    }
   ],
   "source": [
    "getattr(a_fish, \"age\")"
   ]
  },
  {
   "cell_type": "code",
   "execution_count": 26,
   "metadata": {},
   "outputs": [],
   "source": [
    "a_fish_class = Fish"
   ]
  },
  {
   "cell_type": "code",
   "execution_count": 24,
   "metadata": {},
   "outputs": [
    {
     "name": "stdout",
     "output_type": "stream",
     "text": [
      "I am creating an object\n"
     ]
    }
   ],
   "source": [
    "a_new_fish = a_fish_class()"
   ]
  },
  {
   "cell_type": "code",
   "execution_count": 25,
   "metadata": {},
   "outputs": [
    {
     "data": {
      "text/plain": [
       "7"
      ]
     },
     "execution_count": 25,
     "metadata": {},
     "output_type": "execute_result"
    }
   ],
   "source": [
    "a_new_fish.age"
   ]
  },
  {
   "cell_type": "code",
   "execution_count": null,
   "metadata": {},
   "outputs": [],
   "source": []
  },
  {
   "cell_type": "markdown",
   "metadata": {},
   "source": [
    "An example use for class variables"
   ]
  },
  {
   "cell_type": "code",
   "execution_count": 31,
   "metadata": {},
   "outputs": [],
   "source": [
    "class Dog():\n",
    "    def __init__(self, age=99):\n",
    "        self.age = age"
   ]
  },
  {
   "cell_type": "code",
   "execution_count": 32,
   "metadata": {},
   "outputs": [],
   "source": [
    "animal_class_dict = dict(fish=Fish, dog=Dog)"
   ]
  },
  {
   "cell_type": "code",
   "execution_count": 33,
   "metadata": {},
   "outputs": [
    {
     "name": "stdout",
     "output_type": "stream",
     "text": [
      "<class '__main__.Dog'>\n",
      "<__main__.Dog object at 0x10aa16160>\n"
     ]
    }
   ],
   "source": [
    "animal_species = \"dog\"\n",
    "\n",
    "our_animal_class = animal_class_dict[animal_species]\n",
    "print(our_animal_class)\n",
    "\n",
    "our_animal = our_animal_class()\n",
    "print(our_animal)"
   ]
  },
  {
   "cell_type": "code",
   "execution_count": null,
   "metadata": {},
   "outputs": [],
   "source": []
  },
  {
   "cell_type": "markdown",
   "metadata": {},
   "source": [
    "## What are classes useful for?"
   ]
  },
  {
   "cell_type": "markdown",
   "metadata": {},
   "source": [
    "Imagine we want to simulate trajectories from three fish. Each fish will have coordinates, position, and bout velocity. How do we keep track of all these parameters for all fish?\n",
    "Of course we could make arrays keeping track of all variables:"
   ]
  },
  {
   "cell_type": "code",
   "execution_count": 21,
   "metadata": {},
   "outputs": [],
   "source": [
    "fish_x_pos = np.zeros(3)\n",
    "fish_y_pos = np.zeros(3)\n",
    "fish_vel = np.array([5, 10, 3])\n",
    "\n",
    "def update_positions(fish_x_pos, fish_y_pos, fish_vel):\n",
    "    ..."
   ]
  },
  {
   "cell_type": "markdown",
   "metadata": {},
   "source": [
    "Or we can make dictionaries for every fish, and then pass them to functions:"
   ]
  },
  {
   "cell_type": "code",
   "execution_count": null,
   "metadata": {},
   "outputs": [],
   "source": [
    "fish0_dict = dict(pos_x=0, pos_y=0, vel=5)\n",
    "fish1_dict = dict(pos_x=0, pos_y=0, vel=5)\n",
    "fish2_dict = dict(pos_x=0, pos_y=0, vel=5)\n",
    "\n",
    "update_positions(fish_dict):\n",
    "    ..."
   ]
  },
  {
   "cell_type": "markdown",
   "metadata": {},
   "source": [
    "Still, in such circumstances, classes can be very useful to keep together attributes that are referring to one thing (object, a fish in this case) and functions to operate on them. For example, for a moving fish:"
   ]
  },
  {
   "cell_type": "code",
   "execution_count": 58,
   "metadata": {},
   "outputs": [],
   "source": [
    "class Fish():\n",
    "    def __init__(self, age, start_pos_x=0, start_pos_y=0, max_speed=10):\n",
    "        \n",
    "        self.age = age\n",
    "        self.pos_x = start_pos_x\n",
    "        self.pos_y = start_pos_y\n",
    "        \n",
    "        self.max_speed = 10\n",
    "\n",
    "    def bout(self):\n",
    "        print(\"Doing a bout\")\n",
    "        self.pos_x += np.random.randint(-self.max_speed, self.max_speed)\n",
    "        self.pos_y += np.random.randint(-self.max_speed, self.max_speed)\n",
    "        \n",
    "    def print_pos(self):\n",
    "        print(self.pos_x, self.pos_y)\n",
    "        \n",
    "    def reset_pos(self, pos_x, pos_y):\n",
    "        self.pos_x = pos_x\n",
    "        self.pos_y = pos_y\n",
    "      \n",
    "    @staticmethod\n",
    "    def print_something():\n",
    "        print(\"Something\")"
   ]
  },
  {
   "cell_type": "code",
   "execution_count": 55,
   "metadata": {},
   "outputs": [
    {
     "name": "stdout",
     "output_type": "stream",
     "text": [
      "0 10\n",
      "Doing a bout\n",
      "0 2\n",
      "Something\n"
     ]
    }
   ],
   "source": [
    "a_new_fish = Fish(8, start_pos_x=0, start_pos_y=10)\n",
    "a_new_fish.print_pos()\n",
    "a_new_fish.bout()\n",
    "a_new_fish.print_pos()\n",
    "a_new_fish.print_something()"
   ]
  },
  {
   "cell_type": "code",
   "execution_count": 62,
   "metadata": {},
   "outputs": [],
   "source": [
    "a_new_fish_class = Fish"
   ]
  },
  {
   "cell_type": "code",
   "execution_count": 65,
   "metadata": {},
   "outputs": [
    {
     "ename": "TypeError",
     "evalue": "print_pos() missing 1 required positional argument: 'self'",
     "output_type": "error",
     "traceback": [
      "\u001b[0;31m---------------------------------------------------------------------------\u001b[0m",
      "\u001b[0;31mTypeError\u001b[0m                                 Traceback (most recent call last)",
      "\u001b[0;32m<ipython-input-65-19d04d04ab07>\u001b[0m in \u001b[0;36m<module>\u001b[0;34m\u001b[0m\n\u001b[0;32m----> 1\u001b[0;31m \u001b[0ma_new_fish_class\u001b[0m\u001b[0;34m.\u001b[0m\u001b[0mprint_pos\u001b[0m\u001b[0;34m(\u001b[0m\u001b[0;34m)\u001b[0m\u001b[0;34m\u001b[0m\u001b[0;34m\u001b[0m\u001b[0m\n\u001b[0m",
      "\u001b[0;31mTypeError\u001b[0m: print_pos() missing 1 required positional argument: 'self'"
     ]
    }
   ],
   "source": [
    "a_new_fish_class.print_pos()"
   ]
  },
  {
   "cell_type": "code",
   "execution_count": 153,
   "metadata": {},
   "outputs": [
    {
     "name": "stdout",
     "output_type": "stream",
     "text": [
      "0 0\n",
      "9 4\n",
      "0 0\n"
     ]
    }
   ],
   "source": [
    "a_fish = Fish(8)\n",
    "\n",
    "a_fish.print_pos()\n",
    "a_fish.bout()\n",
    "a_fish.print_pos()\n",
    "a_fish.reset_pos(0, 0)\n",
    "a_fish.print_pos()"
   ]
  },
  {
   "cell_type": "markdown",
   "metadata": {},
   "source": [
    "# Inheritance"
   ]
  },
  {
   "cell_type": "markdown",
   "metadata": {},
   "source": [
    "One of the most powerful advantages of using classes is **inheritance**. With inheritance, we can easily define subcategories of a general class, adding new methods and overwriting old ones:"
   ]
  },
  {
   "cell_type": "code",
   "execution_count": 128,
   "metadata": {},
   "outputs": [],
   "source": [
    "class Animal():\n",
    "    def __init__(self, age, color=\"pink\"):\n",
    "        self.age=age\n",
    "        self.color = color\n",
    "        \n",
    "    def make_sound(self):\n",
    "        print(\"I don't know what sound to make\")\n",
    "       \n",
    "    \n",
    "class Dog(Animal):\n",
    "    def __init__(self, *args, name=\"Bob\", **kwargs):\n",
    "        print(kwargs)\n",
    "        super().__init__(*args, **kwargs)\n",
    "        self.name = name\n",
    "        \n",
    "    def make_sound(self):\n",
    "        super().make_sound()\n",
    "        print(\"Bau\")"
   ]
  },
  {
   "cell_type": "code",
   "execution_count": 131,
   "metadata": {},
   "outputs": [
    {
     "name": "stdout",
     "output_type": "stream",
     "text": [
      "{'color': 'dark'}\n"
     ]
    },
    {
     "data": {
      "text/plain": [
       "'dark'"
      ]
     },
     "execution_count": 131,
     "metadata": {},
     "output_type": "execute_result"
    }
   ],
   "source": [
    "a_dog = Dog(30, color=\"dark\")\n",
    "#print(a_dog.age)\n",
    "a_dog.color"
   ]
  },
  {
   "cell_type": "code",
   "execution_count": null,
   "metadata": {},
   "outputs": [],
   "source": []
  },
  {
   "cell_type": "code",
   "execution_count": null,
   "metadata": {},
   "outputs": [],
   "source": []
  },
  {
   "cell_type": "markdown",
   "metadata": {},
   "source": [
    "## Classes and objects"
   ]
  },
  {
   "cell_type": "code",
   "execution_count": 173,
   "metadata": {},
   "outputs": [],
   "source": [
    "a_fish_class = FishLarvae\n",
    "a_fish_object = FishLarvae(7)"
   ]
  },
  {
   "cell_type": "code",
   "execution_count": 174,
   "metadata": {},
   "outputs": [
    {
     "name": "stdout",
     "output_type": "stream",
     "text": [
      "0 0\n"
     ]
    },
    {
     "ename": "TypeError",
     "evalue": "print_pos() missing 1 required positional argument: 'self'",
     "output_type": "error",
     "traceback": [
      "\u001b[0;31m---------------------------------------------------------------------------\u001b[0m",
      "\u001b[0;31mTypeError\u001b[0m                                 Traceback (most recent call last)",
      "\u001b[0;32m<ipython-input-174-b435f6e36034>\u001b[0m in \u001b[0;36m<module>\u001b[0;34m\u001b[0m\n\u001b[1;32m      1\u001b[0m \u001b[0ma_fish_object\u001b[0m\u001b[0;34m.\u001b[0m\u001b[0mprint_pos\u001b[0m\u001b[0;34m(\u001b[0m\u001b[0;34m)\u001b[0m\u001b[0;34m\u001b[0m\u001b[0;34m\u001b[0m\u001b[0m\n\u001b[0;32m----> 2\u001b[0;31m \u001b[0ma_fish_class\u001b[0m\u001b[0;34m.\u001b[0m\u001b[0mprint_pos\u001b[0m\u001b[0;34m(\u001b[0m\u001b[0;34m)\u001b[0m\u001b[0;34m\u001b[0m\u001b[0;34m\u001b[0m\u001b[0m\n\u001b[0m",
      "\u001b[0;31mTypeError\u001b[0m: print_pos() missing 1 required positional argument: 'self'"
     ]
    }
   ],
   "source": [
    "a_fish_object.print_pos()\n",
    "a_fish_class.print_pos()"
   ]
  },
  {
   "cell_type": "code",
   "execution_count": 176,
   "metadata": {},
   "outputs": [
    {
     "name": "stdout",
     "output_type": "stream",
     "text": [
      "Yes!\n"
     ]
    },
    {
     "ename": "TypeError",
     "evalue": "is_stupid() takes 0 positional arguments but 1 was given",
     "output_type": "error",
     "traceback": [
      "\u001b[0;31m---------------------------------------------------------------------------\u001b[0m",
      "\u001b[0;31mTypeError\u001b[0m                                 Traceback (most recent call last)",
      "\u001b[0;32m<ipython-input-176-4c580d368292>\u001b[0m in \u001b[0;36m<module>\u001b[0;34m\u001b[0m\n\u001b[1;32m      1\u001b[0m \u001b[0ma_fish_class\u001b[0m\u001b[0;34m.\u001b[0m\u001b[0mis_stupid\u001b[0m\u001b[0;34m(\u001b[0m\u001b[0;34m)\u001b[0m\u001b[0;34m\u001b[0m\u001b[0;34m\u001b[0m\u001b[0m\n\u001b[0;32m----> 2\u001b[0;31m \u001b[0ma_fish_object\u001b[0m\u001b[0;34m.\u001b[0m\u001b[0mis_stupid\u001b[0m\u001b[0;34m(\u001b[0m\u001b[0;34m)\u001b[0m\u001b[0;34m\u001b[0m\u001b[0;34m\u001b[0m\u001b[0m\n\u001b[0m",
      "\u001b[0;31mTypeError\u001b[0m: is_stupid() takes 0 positional arguments but 1 was given"
     ]
    }
   ],
   "source": [
    "a_fish_class.is_stupid()\n",
    "a_fish_object.is_stupid()"
   ]
  },
  {
   "cell_type": "code",
   "execution_count": 181,
   "metadata": {},
   "outputs": [],
   "source": [
    "class FishLarvae(Fish):\n",
    "    @staticmethod\n",
    "    def is_stupid():  # Note: we don't have the self here! This we can do, because we don't use it.\n",
    "        print(\"Yes!\")"
   ]
  },
  {
   "cell_type": "code",
   "execution_count": 183,
   "metadata": {},
   "outputs": [
    {
     "name": "stdout",
     "output_type": "stream",
     "text": [
      "Yes!\n",
      "Yes!\n"
     ]
    }
   ],
   "source": [
    "a_fish_class = FishLarvae\n",
    "a_fish_object = FishLarvae(7)\n",
    "\n",
    "a_fish_class.is_stupid()\n",
    "a_fish_object.is_stupid()"
   ]
  },
  {
   "cell_type": "markdown",
   "metadata": {},
   "source": [
    "# Args and kwargs"
   ]
  },
  {
   "cell_type": "markdown",
   "metadata": {},
   "source": [
    "We must be careful if we want to overwrite methods of the parent class:"
   ]
  },
  {
   "cell_type": "code",
   "execution_count": 40,
   "metadata": {},
   "outputs": [],
   "source": [
    "class FishLarvae(Fish):\n",
    "    def __init__(self):\n",
    "        print(\"Instantiating a larvae\")"
   ]
  },
  {
   "cell_type": "code",
   "execution_count": 39,
   "metadata": {},
   "outputs": [
    {
     "ename": "TypeError",
     "evalue": "__init__() takes 1 positional argument but 2 were given",
     "output_type": "error",
     "traceback": [
      "\u001b[0;31m---------------------------------------------------------------------------\u001b[0m",
      "\u001b[0;31mTypeError\u001b[0m                                 Traceback (most recent call last)",
      "\u001b[0;32m<ipython-input-39-563915f4acfb>\u001b[0m in \u001b[0;36m<module>\u001b[0;34m\u001b[0m\n\u001b[0;32m----> 1\u001b[0;31m \u001b[0ma_larvae_fish\u001b[0m \u001b[0;34m=\u001b[0m \u001b[0mFishLarvae\u001b[0m\u001b[0;34m(\u001b[0m\u001b[0;36m7\u001b[0m\u001b[0;34m)\u001b[0m\u001b[0;34m\u001b[0m\u001b[0;34m\u001b[0m\u001b[0m\n\u001b[0m\u001b[1;32m      2\u001b[0m \u001b[0ma_larvae_fish\u001b[0m\u001b[0;34m.\u001b[0m\u001b[0mbout\u001b[0m\u001b[0;34m(\u001b[0m\u001b[0;34m)\u001b[0m\u001b[0;34m\u001b[0m\u001b[0;34m\u001b[0m\u001b[0m\n",
      "\u001b[0;31mTypeError\u001b[0m: __init__() takes 1 positional argument but 2 were given"
     ]
    }
   ],
   "source": [
    "a_larvae_fish = FishLarvae(7)\n",
    "a_larvae_fish.bout()"
   ]
  },
  {
   "cell_type": "markdown",
   "metadata": {},
   "source": [
    "Of course, one option would be to repeat all arguments in the subclass:"
   ]
  },
  {
   "cell_type": "code",
   "execution_count": 41,
   "metadata": {},
   "outputs": [],
   "source": [
    "class FishLarvae(Fish):\n",
    "    def __init__(self, age, start_pos_x=0, start_pos_y=0, max_speed=10):\n",
    "        super().__init__(age, start_pos_x=start_pos_x, start_pos_y=start_pos_y, max_speed=max_speed)\n",
    "        print(\"Instantiating a larvae\")"
   ]
  },
  {
   "cell_type": "code",
   "execution_count": 42,
   "metadata": {},
   "outputs": [
    {
     "name": "stdout",
     "output_type": "stream",
     "text": [
      "Instantiating a larvae\n",
      "-4 1\n"
     ]
    }
   ],
   "source": [
    "a_larvae_fish = FishLarvae(7)\n",
    "a_larvae_fish.bout()\n",
    "a_larvae_fish.print_pos()"
   ]
  },
  {
   "cell_type": "markdown",
   "metadata": {},
   "source": [
    "But a much cleaner syntax would be the following:"
   ]
  },
  {
   "cell_type": "code",
   "execution_count": 43,
   "metadata": {},
   "outputs": [],
   "source": [
    "class FishLarvae(Fish):\n",
    "    def __init__(self, *args, **kwargs):\n",
    "        super().__init__(*args, **kwargs)\n",
    "        print(\"Instantiating a larvae\")"
   ]
  },
  {
   "cell_type": "markdown",
   "metadata": {},
   "source": [
    "We can still use the arguments stored in args (a list) and kwargs (a dictionary)"
   ]
  },
  {
   "cell_type": "code",
   "execution_count": 44,
   "metadata": {},
   "outputs": [],
   "source": [
    "class FishLarvae(Fish):\n",
    "    def __init__(self, *args, **kwargs):\n",
    "        super().__init__(*args, **kwargs)\n",
    "        \n",
    "        if args[0] > 9:\n",
    "            raise ValueError(\"The fish is too old to be a larvae!\")\n",
    "        \n",
    "        print(\"Instantiating a larvae in position ({}, {})\".format(kwargs[\"start_pos_x\"], kwargs[\"start_pos_y\"]))"
   ]
  },
  {
   "cell_type": "code",
   "execution_count": 45,
   "metadata": {},
   "outputs": [
    {
     "name": "stdout",
     "output_type": "stream",
     "text": [
      "Instantiating a larvae in position (10, 20)\n",
      "8 17\n"
     ]
    }
   ],
   "source": [
    "a_larvae_fish = FishLarvae(8, start_pos_x=10, start_pos_y=20)\n",
    "a_larvae_fish.bout()\n",
    "a_larvae_fish.print_pos()"
   ]
  },
  {
   "cell_type": "code",
   "execution_count": null,
   "metadata": {},
   "outputs": [],
   "source": []
  },
  {
   "cell_type": "markdown",
   "metadata": {},
   "source": [
    "# Multiple inheritance"
   ]
  },
  {
   "cell_type": "markdown",
   "metadata": {},
   "source": [
    "Let's assume we want to keep track of where each fish moves. To do this, we already provide a very neat class to store in a list some quantities:"
   ]
  },
  {
   "cell_type": "code",
   "execution_count": 16,
   "metadata": {},
   "outputs": [],
   "source": [
    "class DataLogger():\n",
    "    def __init__(self, *args, what_to_log=[], **kwargs):\n",
    "        print(\"creating DataLogger\")\n",
    "        super().__init__(*args, **kwargs)\n",
    "        self.what_to_log = what_to_log\n",
    "        self.log = dict()\n",
    "        \n",
    "        for attribute_to_log in what_to_log:\n",
    "            self.log[attribute_to_log] = []\n",
    "                        \n",
    "        \n",
    "    def update_log(self):\n",
    "        for k in self.what_to_log:\n",
    "            self.log[k].append(getattr(self, k))\n",
    "            \n",
    "    def reset_log(self):\n",
    "        self.log = {k: [] for k in self.what_to_log}"
   ]
  },
  {
   "cell_type": "code",
   "execution_count": 172,
   "metadata": {},
   "outputs": [],
   "source": [
    "class ExampleLogging(DataLogger):\n",
    "    def __init__(self, *args, starting_val=0, **kwargs):\n",
    "        what_to_log = [\"attribute_to_log\"]\n",
    "        self.attribute_to_log = starting_val\n",
    "        super().__init__(*args, what_to_log=what_to_log, **kwargs)\n",
    "        \n",
    "    def update(self):\n",
    "        self.attribute_to_log += 1\n",
    "        self.update_log()"
   ]
  },
  {
   "cell_type": "code",
   "execution_count": 173,
   "metadata": {},
   "outputs": [
    {
     "name": "stdout",
     "output_type": "stream",
     "text": [
      "creating DataLogger\n",
      "0\n",
      "1\n",
      "{'attribute_to_log': [0, 0, 1, 1]}\n"
     ]
    }
   ],
   "source": [
    "logged_object = ExampleLogging()\n",
    "print(logged_object.attribute_to_log)\n",
    "logged_object.update_log()\n",
    "logged_object.update()\n",
    "logged_object.update_log()\n",
    "print(logged_object.attribute_to_log)\n",
    "print(logged_object.log)"
   ]
  },
  {
   "cell_type": "code",
   "execution_count": null,
   "metadata": {},
   "outputs": [],
   "source": []
  },
  {
   "cell_type": "markdown",
   "metadata": {},
   "source": [
    "Right now, this data logger has nothing interesting to store. But now, let's combine it together with  the fish class!"
   ]
  },
  {
   "cell_type": "code",
   "execution_count": 17,
   "metadata": {},
   "outputs": [],
   "source": [
    "class Fish():\n",
    "    def __init__(self, *args, age=7, start_pos_x=0, start_pos_y=0, max_speed=10, **kwargs):\n",
    "        print(\"creating Fish\")\n",
    "        super().__init__(*args, **kwargs)\n",
    "        self.age = age\n",
    "        self.pos_x = start_pos_x\n",
    "        self.pos_y = start_pos_y\n",
    "        \n",
    "        self.max_speed = 10\n",
    "\n",
    "    def bout(self):\n",
    "        self.pos_x += np.random.randint(-self.max_speed, self.max_speed)\n",
    "        self.pos_y += np.random.randint(-self.max_speed, self.max_speed)\n",
    "        \n",
    "    def print_pos(self):\n",
    "        print(self.pos_x, self.pos_y)\n",
    "        \n",
    "    def reset_pos(self, pos_x, pos_y):\n",
    "        self.pos_x = pos_x\n",
    "        self.pos_y = pos_y"
   ]
  },
  {
   "cell_type": "code",
   "execution_count": 18,
   "metadata": {},
   "outputs": [],
   "source": [
    "class LoggedFish(Fish, DataLogger):\n",
    "    def __init__(self, *args, **kwargs):\n",
    "        print(\"Creating logged fish\")\n",
    "        super().__init__(*args, **kwargs)\n",
    "        \n",
    "    # Overwrite parent methods combining them:\n",
    "    def bout(self):\n",
    "        super().bout()\n",
    "        super().update_log()\n",
    "        \n",
    "    # Overwrite parent methods combining them:\n",
    "    def reset_pos(self, pos_x=0, pos_y=0):\n",
    "        super().reset_pos(pos_x=pos_x, pos_y=pos_y)\n",
    "        super().reset_log()"
   ]
  },
  {
   "cell_type": "code",
   "execution_count": 19,
   "metadata": {},
   "outputs": [
    {
     "name": "stdout",
     "output_type": "stream",
     "text": [
      "Creating logged fish\n",
      "creating Fish\n",
      "creating DataLogger\n"
     ]
    }
   ],
   "source": [
    "a_logged_fish = LoggedFish(age=10, what_to_log=[\"pos_x\"])"
   ]
  },
  {
   "cell_type": "code",
   "execution_count": 143,
   "metadata": {},
   "outputs": [
    {
     "name": "stdout",
     "output_type": "stream",
     "text": [
      "{'pos_x': [4, 2, -4, -3, -11, -5, 2, 7, -1, 3]}\n",
      "{'pos_x': []}\n"
     ]
    }
   ],
   "source": [
    "n_bouts = 10\n",
    "for n in range(n_bouts):\n",
    "    a_logged_fish.bout()\n",
    "    \n",
    "print(a_logged_fish.log)\n",
    "a_logged_fish.reset_pos(pos_x=0, pos_y=0)\n",
    "print(a_logged_fish.log)"
   ]
  },
  {
   "cell_type": "code",
   "execution_count": null,
   "metadata": {},
   "outputs": [],
   "source": []
  },
  {
   "cell_type": "code",
   "execution_count": 28,
   "metadata": {},
   "outputs": [],
   "source": [
    "class ClassA():\n",
    "    def __init__(self, *args, **kwargs):\n",
    "        print(\"Instantiating A\")\n",
    "        super().__init__(*args, **kwargs)\n",
    "        \n",
    "class ClassB():\n",
    "    def __init__(self, *args, **kwargs):\n",
    "        print(\"Instantiating B\")\n",
    "        # super().__init__(*args, **kwargs)\n",
    "        \n",
    "class ClassAB(ClassB, ClassA):\n",
    "    def __init__(self, *args, **kwargs):\n",
    "        super().__init__(*args, **kwargs)"
   ]
  },
  {
   "cell_type": "code",
   "execution_count": 29,
   "metadata": {},
   "outputs": [
    {
     "name": "stdout",
     "output_type": "stream",
     "text": [
      "Instantiating B\n"
     ]
    }
   ],
   "source": [
    "ab_class = ClassAB()"
   ]
  },
  {
   "cell_type": "code",
   "execution_count": 200,
   "metadata": {},
   "outputs": [
    {
     "ename": "AttributeError",
     "evalue": "'ClassAB' object has no attribute 'b'",
     "output_type": "error",
     "traceback": [
      "\u001b[0;31m---------------------------------------------------------------------------\u001b[0m",
      "\u001b[0;31mAttributeError\u001b[0m                            Traceback (most recent call last)",
      "\u001b[0;32m<ipython-input-200-4cb428c91e3a>\u001b[0m in \u001b[0;36m<module>\u001b[0;34m\u001b[0m\n\u001b[0;32m----> 1\u001b[0;31m \u001b[0mab_class\u001b[0m\u001b[0;34m.\u001b[0m\u001b[0mb\u001b[0m\u001b[0;34m\u001b[0m\u001b[0;34m\u001b[0m\u001b[0m\n\u001b[0m",
      "\u001b[0;31mAttributeError\u001b[0m: 'ClassAB' object has no attribute 'b'"
     ]
    }
   ],
   "source": [
    "ab_class.b"
   ]
  },
  {
   "cell_type": "code",
   "execution_count": null,
   "metadata": {},
   "outputs": [],
   "source": []
  }
 ],
 "metadata": {
  "kernelspec": {
   "display_name": "Python 3",
   "language": "python",
   "name": "python3"
  },
  "language_info": {
   "codemirror_mode": {
    "name": "ipython",
    "version": 3
   },
   "file_extension": ".py",
   "mimetype": "text/x-python",
   "name": "python",
   "nbconvert_exporter": "python",
   "pygments_lexer": "ipython3",
   "version": "3.7.3"
  }
 },
 "nbformat": 4,
 "nbformat_minor": 1
}
