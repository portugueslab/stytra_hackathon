{
 "cells": [
  {
   "cell_type": "markdown",
   "metadata": {},
   "source": [
    "# Classes & objects - exercises"
   ]
  },
  {
   "cell_type": "markdown",
   "metadata": {},
   "source": [
    "**Writing a class**\n",
    "\n",
    "Write a class to describe a lab member.\n",
    "Add:\n",
    "1. attributes for name, age, salary, publication list, health\n",
    "2. methods for:\n",
    "    - printing a CV;\n",
    "    - do work if healthy, and update publication list each time some amount of work is done (eg, with a total work counter attribute);  \n",
    "    - calculate h-index based on paper list.\n",
    "\n",
    "\n",
    "**Subclassing**\n",
    "\n",
    "Then subclass it to have PI, PhD student, postdoc. This classes should:\n",
    "    1. Specifies some fix amount of salary \n",
    "    2. Redefine the \"do work\" method to add more or less work to the counter when colled,\n",
    "    3. Redefine the CV printing function to add a line with the position\n",
    "\n",
    "\n",
    "**Multiple inheritance**\n",
    "\n",
    "Define a different class (use your fantasy) and a new subclass inheriting from both classes (e.g., a climber with a method to go climbing with some probability of breaking a leg and not be able to do work for some iterations)"
   ]
  },
  {
   "cell_type": "code",
   "execution_count": null,
   "metadata": {},
   "outputs": [],
   "source": []
  },
  {
   "cell_type": "code",
   "execution_count": null,
   "metadata": {},
   "outputs": [],
   "source": []
  },
  {
   "cell_type": "code",
   "execution_count": null,
   "metadata": {},
   "outputs": [],
   "source": []
  },
  {
   "cell_type": "code",
   "execution_count": null,
   "metadata": {},
   "outputs": [],
   "source": []
  }
 ],
 "metadata": {
  "kernelspec": {
   "display_name": "Python 3",
   "language": "python",
   "name": "python3"
  },
  "language_info": {
   "codemirror_mode": {
    "name": "ipython",
    "version": 3
   },
   "file_extension": ".py",
   "mimetype": "text/x-python",
   "name": "python",
   "nbconvert_exporter": "python",
   "pygments_lexer": "ipython3",
   "version": "3.7.3"
  }
 },
 "nbformat": 4,
 "nbformat_minor": 2
}
